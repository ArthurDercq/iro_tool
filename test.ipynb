{
 "cells": [
  {
   "cell_type": "code",
   "execution_count": 41,
   "metadata": {},
   "outputs": [],
   "source": [
    "import sqlite3\n",
    "\n",
    "# Connexion à la base de données (créée si elle n'existe pas)\n",
    "conn = sqlite3.connect('data/iro_v1')\n",
    "cursor = conn.cursor()\n"
   ]
  },
  {
   "cell_type": "code",
   "execution_count": 42,
   "metadata": {},
   "outputs": [],
   "source": [
    "simple_query = \"SELECT topic_name, topic_category FROM topics\""
   ]
  },
  {
   "cell_type": "code",
   "execution_count": 43,
   "metadata": {},
   "outputs": [],
   "source": [
    "cursor.execute(simple_query)\n",
    "rows = cursor.fetchall()\n"
   ]
  },
  {
   "cell_type": "code",
   "execution_count": 44,
   "metadata": {},
   "outputs": [
    {
     "data": {
      "text/plain": [
       "[('Climate change Mitigation & carbon footprint', 'environment'),\n",
       " ('Climate change adaptation', 'environment'),\n",
       " ('Land use and biodiversity', 'environment'),\n",
       " ('Soil pollution', 'environment'),\n",
       " ('Water management', 'environment'),\n",
       " ('Energy management', 'environment'),\n",
       " ('Raw material & circularity', 'environment'),\n",
       " ('Air pollution', 'environment'),\n",
       " ('Packaging', 'environment'),\n",
       " ('Noise', 'environment'),\n",
       " ('Waste management', 'environment'),\n",
       " ('Employee well-being', 'Social'),\n",
       " ('Education & Upskilling', 'Social'),\n",
       " ('Health and safety at work', 'Social'),\n",
       " ('Working conditions in the value chain', 'Social'),\n",
       " ('Quality of services', 'Social'),\n",
       " ('Commitment to public health', 'Social'),\n",
       " ('Resilience of society', 'Social'),\n",
       " ('Diversity & Inclusion', 'Social'),\n",
       " ('Equality among employees', 'Social'),\n",
       " ('Sustainable procurement & growth', 'Governance'),\n",
       " ('Data privacy, protection & security concerns', 'Governance'),\n",
       " ('Conflicts of interests, corruption & bribery', 'Governance'),\n",
       " ('Evolution of entreprise culture', 'Governance'),\n",
       " ('Due diligence in the value chain', 'Governance'),\n",
       " ('Business ethics & transparency', 'Governance')]"
      ]
     },
     "execution_count": 44,
     "metadata": {},
     "output_type": "execute_result"
    }
   ],
   "source": [
    "rows"
   ]
  },
  {
   "cell_type": "code",
   "execution_count": null,
   "metadata": {},
   "outputs": [],
   "source": []
  },
  {
   "cell_type": "code",
   "execution_count": null,
   "metadata": {},
   "outputs": [],
   "source": []
  }
 ],
 "metadata": {
  "kernelspec": {
   "display_name": "lewagon_current",
   "language": "python",
   "name": "python3"
  },
  "language_info": {
   "codemirror_mode": {
    "name": "ipython",
    "version": 3
   },
   "file_extension": ".py",
   "mimetype": "text/x-python",
   "name": "python",
   "nbconvert_exporter": "python",
   "pygments_lexer": "ipython3",
   "version": "3.10.6"
  }
 },
 "nbformat": 4,
 "nbformat_minor": 2
}
