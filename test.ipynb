{
 "cells": [
  {
   "cell_type": "code",
   "execution_count": 4,
   "metadata": {},
   "outputs": [],
   "source": [
    "import sqlite3\n",
    "\n",
    "# Connexion à la base de données (créée si elle n'existe pas)\n",
    "conn = sqlite3.connect('iro.db')\n",
    "cursor = conn.cursor()\n"
   ]
  },
  {
   "cell_type": "code",
   "execution_count": 5,
   "metadata": {},
   "outputs": [],
   "source": [
    "simple_query = \"SELECT * FROM Topic\""
   ]
  },
  {
   "cell_type": "code",
   "execution_count": 7,
   "metadata": {},
   "outputs": [],
   "source": [
    "cursor.execute(simple_query)\n",
    "rows = cursor.fetchall()\n"
   ]
  },
  {
   "cell_type": "code",
   "execution_count": 8,
   "metadata": {},
   "outputs": [
    {
     "data": {
      "text/plain": [
       "[(1, 'Climate change Mitigation & carbon footprint', 'environment'),\n",
       " (2, 'Climate change adaptation', 'environment'),\n",
       " (3, 'Land use and biodiversity', 'environment'),\n",
       " (4, 'Soil pollution', 'environment'),\n",
       " (5, 'Water management', 'environment'),\n",
       " (6, 'Energy management', 'environment'),\n",
       " (7, 'Raw material & circularity', 'environment'),\n",
       " (8, 'Air pollution', 'environment'),\n",
       " (9, 'Packaging', 'environment'),\n",
       " (10, 'Noise', 'environment'),\n",
       " (11, 'Waste management', 'environment'),\n",
       " (12, 'Employee well-being', 'Social'),\n",
       " (13, 'Education & Upskilling', 'Social'),\n",
       " (14, 'Health and safety at work', 'Social'),\n",
       " (15, 'Working conditions in the value chain', 'Social'),\n",
       " (16, 'Quality of services', 'Social'),\n",
       " (17, 'Commitment to public health', 'Social'),\n",
       " (18, 'Resilience of society', 'Social'),\n",
       " (19, 'Diversity & Inclusion', 'Social'),\n",
       " (20, 'Equality among employees', 'Social'),\n",
       " (21, 'Sustainable procurement', 'Governance'),\n",
       " (22, 'Data privacy, protection and security concerns', 'Governance'),\n",
       " (23, 'Conflicts of interests, corruption & bribery', 'Governance'),\n",
       " (24, 'Evolution of entreprise culture', 'Governance'),\n",
       " (25, 'Due diligence in the value chain', 'Governance'),\n",
       " (26, 'Business ethics & transparency', 'Governance')]"
      ]
     },
     "execution_count": 8,
     "metadata": {},
     "output_type": "execute_result"
    }
   ],
   "source": [
    "rows"
   ]
  },
  {
   "cell_type": "code",
   "execution_count": null,
   "metadata": {},
   "outputs": [],
   "source": []
  },
  {
   "cell_type": "code",
   "execution_count": null,
   "metadata": {},
   "outputs": [],
   "source": []
  }
 ],
 "metadata": {
  "kernelspec": {
   "display_name": "lewagon_current",
   "language": "python",
   "name": "python3"
  },
  "language_info": {
   "codemirror_mode": {
    "name": "ipython",
    "version": 3
   },
   "file_extension": ".py",
   "mimetype": "text/x-python",
   "name": "python",
   "nbconvert_exporter": "python",
   "pygments_lexer": "ipython3",
   "version": "3.10.6"
  }
 },
 "nbformat": 4,
 "nbformat_minor": 2
}
