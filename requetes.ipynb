{
 "cells": [
  {
   "cell_type": "code",
   "execution_count": 21,
   "metadata": {},
   "outputs": [],
   "source": [
    "import sqlite3\n",
    "\n",
    "# Connexion à la base de données (créée si elle n'existe pas)\n",
    "conn = sqlite3.connect('data/iro.db')\n",
    "cursor = conn.cursor()\n"
   ]
  },
  {
   "cell_type": "code",
   "execution_count": 10,
   "metadata": {},
   "outputs": [
    {
     "name": "stdout",
     "output_type": "stream",
     "text": [
      "Table: Topic\n",
      "Attributs:\n",
      "Topic_id INTEGER\n",
      "Topic_name CHAR\n",
      "Topic_category CHAR\n",
      "\n",
      "Table: sqlite_sequence\n",
      "Attributs:\n",
      "name \n",
      "seq \n",
      "\n",
      "Table: Impacts\n",
      "Attributs:\n",
      "Impact_id INTEGER\n",
      "Impact_name CHAR\n",
      "Company_ID INTEGER\n",
      "Topic_id INTEGER\n",
      "\n",
      "Table: Risks\n",
      "Attributs:\n",
      "Risk_id INTEGER\n",
      "Risk_name CHAR\n",
      "Company_ID INTEGER\n",
      "Topic_id INTEGER\n",
      "\n",
      "Table: Companies\n",
      "Attributs:\n",
      "Company_id INTEGER\n",
      "Company_name CHAR\n",
      "    Company_sector CHAR\n",
      "Company_sector VARCHAR\n",
      "\n",
      "Table: Opportunities\n",
      "Attributs:\n",
      "Opportunity_id INTEGER\n",
      "Opportunity_name CHAR\n",
      "Company_ID INTEGER\n",
      "Topic_id INTEGER\n",
      "\n"
     ]
    }
   ],
   "source": [
    "\n",
    "# Récupérez les noms de toutes les tables dans la base de données\n",
    "cursor.execute(\"SELECT name FROM sqlite_master WHERE type='table';\")\n",
    "tables = cursor.fetchall()\n",
    "\n",
    "# Affichez les attributs de chaque table\n",
    "for table in tables:\n",
    "    table_name = table[0]\n",
    "    print(f\"Table: {table_name}\")\n",
    "    cursor.execute(f\"PRAGMA table_info({table_name})\")\n",
    "    columns = cursor.fetchall()\n",
    "    print(\"Attributs:\")\n",
    "    for column in columns:\n",
    "        print(column[1], column[2])  # Nom de la colonne et type de données\n",
    "    print()  # Ligne vide pour la lisibilité\n"
   ]
  },
  {
   "cell_type": "code",
   "execution_count": 13,
   "metadata": {},
   "outputs": [],
   "source": [
    "query_companies = \"\"\"SELECT Company_name, Company_sector FROM Companies;\n",
    "\"\"\""
   ]
  },
  {
   "cell_type": "code",
   "execution_count": 25,
   "metadata": {},
   "outputs": [],
   "source": [
    "def get_topic_name():\n",
    "    query_topic_name= \"\"\"SELECT Topic_name FROM Topic;\"\"\"\n",
    "    cursor.execute(query_topic_name)\n",
    "    topics = cursor.fetchall()\n",
    "    topics = [topic[0] for topic in topics]\n",
    "    return topics\n"
   ]
  },
  {
   "cell_type": "code",
   "execution_count": 63,
   "metadata": {},
   "outputs": [
    {
     "data": {
      "text/plain": [
       "3"
      ]
     },
     "execution_count": 63,
     "metadata": {},
     "output_type": "execute_result"
    }
   ],
   "source": [
    "def get_topicID(topic_name):\n",
    "    query_topic_name= \"\"\"SELECT Topic_id FROM Topic WHERE Topic_name = ?\"\"\"\n",
    "    cursor.execute(query_topic_name, (topic_name,))\n",
    "    id = cursor.fetchall()\n",
    "    id = [topic[0] for topic in id]\n",
    "    return id[0]\n",
    "\n",
    "get_topicID(\"Land use and biodiversity\")"
   ]
  },
  {
   "cell_type": "code",
   "execution_count": 26,
   "metadata": {},
   "outputs": [
    {
     "data": {
      "text/plain": [
       "['Real Estate', 'IT', 'Energy', 'Energy', 'Retail']"
      ]
     },
     "execution_count": 26,
     "metadata": {},
     "output_type": "execute_result"
    }
   ],
   "source": [
    "def get_sector():\n",
    "    query_sector_name= \"\"\"SELECT Company_sector FROM Companies;\"\"\"\n",
    "    cursor.execute(query_sector_name)\n",
    "    sectors = cursor.fetchall()\n",
    "    sectors = [sector[0] for sector in sectors]\n",
    "    return sectors\n",
    "\n",
    "get_sector()"
   ]
  },
  {
   "cell_type": "code",
   "execution_count": 36,
   "metadata": {},
   "outputs": [
    {
     "data": {
      "text/plain": [
       "['Climate change affects companies in the real estate industry through increasingly frequent weather events and changing climate patterns (flood, high temperatures, extreme meteorological events,...).']"
      ]
     },
     "execution_count": 36,
     "metadata": {},
     "output_type": "execute_result"
    }
   ],
   "source": [
    "def get_impact(topic_selector):\n",
    "    query_Impact_from_topics=\"\"\"SELECT Impacts.Impact_name, Companies.Company_sector\n",
    "                FROM Impacts\n",
    "                JOIN Companies ON Impacts.Company_ID = Companies.Company_id\n",
    "                WHERE Impacts.Topic_id = ?\"\"\"\n",
    "    cursor.execute(query_Impact_from_topics, (topic_selector,))\n",
    "    impacts = cursor.fetchall()\n",
    "    impacts = [impact[0] for impact in impacts]\n",
    "    if len(impacts) == 0:\n",
    "        print(\"No impacts found\")\n",
    "    else:\n",
    "        return impacts\n",
    "\n",
    "get_impact(2)"
   ]
  },
  {
   "cell_type": "code",
   "execution_count": 66,
   "metadata": {},
   "outputs": [
    {
     "name": "stdout",
     "output_type": "stream",
     "text": [
      "No impacts found\n"
     ]
    }
   ],
   "source": [
    "def get_company_source(topic_selector):\n",
    "    query_Impact_from_topics=\"\"\"SELECT Impacts.Impact_name, Companies.Company_name\n",
    "                                FROM Impacts\n",
    "                                INNER JOIN Companies ON Impacts.Company_ID = Companies.Company_id\n",
    "                                WHERE Impacts.Impact_id =  ?\"\"\"\n",
    "    cursor.execute(query_Impact_from_topics, (topic_selector,))\n",
    "    impacts = cursor.fetchall()\n",
    "    impacts = [impact[0] for impact in impacts]\n",
    "    if len(impacts) == 0:\n",
    "        print(\"No impacts found\")\n",
    "    else:\n",
    "        return impacts\n",
    "\n",
    "get_company_source(\"Climate change affects companies in the real estate industry through increasingly frequent weather events and changing climate patterns (flood, high temperatures, extreme meteorological events,...).\")"
   ]
  },
  {
   "cell_type": "code",
   "execution_count": 43,
   "metadata": {},
   "outputs": [
    {
     "name": "stdout",
     "output_type": "stream",
     "text": [
      "No risks found\n"
     ]
    }
   ],
   "source": [
    "def get_risk(topic_selector):\n",
    "    query_risk_name= \"\"\"SELECT Risks.Risk_name, Companies.Company_sector\n",
    "                    FROM Risks\n",
    "                    JOIN Companies ON Risks.Company_ID = Companies.Company_id\n",
    "                    WHERE Risks.Topic_id = ?\n",
    "                    \"\"\"\n",
    "    cursor.execute(query_risk_name, (topic_selector,))\n",
    "    risks = cursor.fetchall()\n",
    "    risks = [risk[0] for risk in risks]\n",
    "    if len(risks) == 0:\n",
    "        print(\"No risks found\")\n",
    "    else:\n",
    "        return risks\n",
    "\n",
    "\n",
    "get_risk(30)"
   ]
  },
  {
   "cell_type": "code",
   "execution_count": 44,
   "metadata": {},
   "outputs": [
    {
     "name": "stdout",
     "output_type": "stream",
     "text": [
      "No opportunities found\n"
     ]
    }
   ],
   "source": [
    "def get_opportunity(topic_selector):\n",
    "    query_opportunity_name= \"\"\"SELECT Opportunities.Opportunity_name, Companies.Company_sector\n",
    "                            FROM Opportunities\n",
    "                            JOIN Companies ON Opportunities.Company_ID = Companies.Company_id\n",
    "                            WHERE Opportunities.Topic_id = ?\n",
    "                            \"\"\";\n",
    "    cursor.execute(query_opportunity_name,  (topic_selector,))\n",
    "    opportunities = cursor.fetchall()\n",
    "    opportunities = [opportunity[0] for opportunity in opportunities]\n",
    "    if len(opportunities) == 0:\n",
    "        print(\"No opportunities found\")\n",
    "    else:\n",
    "        return opportunities\n",
    "\n",
    "get_opportunity(100)"
   ]
  }
 ],
 "metadata": {
  "kernelspec": {
   "display_name": "lewagon_current",
   "language": "python",
   "name": "python3"
  },
  "language_info": {
   "codemirror_mode": {
    "name": "ipython",
    "version": 3
   },
   "file_extension": ".py",
   "mimetype": "text/x-python",
   "name": "python",
   "nbconvert_exporter": "python",
   "pygments_lexer": "ipython3",
   "version": "3.10.6"
  }
 },
 "nbformat": 4,
 "nbformat_minor": 2
}
