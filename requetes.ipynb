{
 "cells": [
  {
   "cell_type": "code",
   "execution_count": 31,
   "metadata": {},
   "outputs": [],
   "source": [
    "import sqlite3\n",
    "import pandas as pd\n",
    "# Connexion à la base de données (créée si elle n'existe pas)\n",
    "conn = sqlite3.connect('data/iro_v1')\n",
    "cursor = conn.cursor()\n"
   ]
  },
  {
   "cell_type": "code",
   "execution_count": 5,
   "metadata": {},
   "outputs": [
    {
     "data": {
      "text/plain": [
       "['Climate change Mitigation & carbon footprint',\n",
       " 'Climate change adaptation',\n",
       " 'Land use and biodiversity',\n",
       " 'Soil pollution',\n",
       " 'Water management',\n",
       " 'Energy management',\n",
       " 'Raw material & circularity',\n",
       " 'Air pollution',\n",
       " 'Packaging',\n",
       " 'Noise',\n",
       " 'Waste management',\n",
       " 'Employee well-being',\n",
       " 'Education & Upskilling',\n",
       " 'Health and safety at work',\n",
       " 'Working conditions in the value chain',\n",
       " 'Quality of services',\n",
       " 'Commitment to public health',\n",
       " 'Resilience of society',\n",
       " 'Diversity & Inclusion',\n",
       " 'Equality among employees',\n",
       " 'Sustainable procurement & growth',\n",
       " 'Data privacy, protection & security concerns',\n",
       " 'Conflicts of interests, corruption & bribery',\n",
       " 'Evolution of entreprise culture',\n",
       " 'Due diligence in the value chain',\n",
       " 'Business ethics & transparency']"
      ]
     },
     "execution_count": 5,
     "metadata": {},
     "output_type": "execute_result"
    }
   ],
   "source": [
    "def get_topic_name():\n",
    "    query_topic_name= \"\"\"SELECT topic_name FROM topics;\"\"\"\n",
    "    cursor.execute(query_topic_name)\n",
    "    topics = cursor.fetchall()\n",
    "    topics = [topic[0] for topic in topics]\n",
    "    return topics\n",
    "\n",
    "get_topic_name()"
   ]
  },
  {
   "cell_type": "code",
   "execution_count": 9,
   "metadata": {},
   "outputs": [
    {
     "data": {
      "text/plain": [
       "10"
      ]
     },
     "execution_count": 9,
     "metadata": {},
     "output_type": "execute_result"
    }
   ],
   "source": [
    "def get_topicID(topic_name):\n",
    "    query_topic_name= \"\"\"SELECT topic_id FROM topics WHERE topic_name = ?\"\"\"\n",
    "    cursor.execute(query_topic_name, (topic_name,))\n",
    "    id = cursor.fetchall()\n",
    "    id = [topic[0] for topic in id]\n",
    "    return id[0]\n",
    "\n",
    "get_topicID(\"Noise\")"
   ]
  },
  {
   "cell_type": "code",
   "execution_count": 10,
   "metadata": {},
   "outputs": [
    {
     "data": {
      "text/plain": [
       "['Real estate', 'IT', 'Energy', 'Energy', 'Retail']"
      ]
     },
     "execution_count": 10,
     "metadata": {},
     "output_type": "execute_result"
    }
   ],
   "source": [
    "def get_sector():\n",
    "    query_sector_name= \"\"\"SELECT company_sector FROM companies;\"\"\"\n",
    "    cursor.execute(query_sector_name)\n",
    "    sectors = cursor.fetchall()\n",
    "    sectors = [sector[0] for sector in sectors]\n",
    "    return sectors\n",
    "\n",
    "get_sector()"
   ]
  },
  {
   "cell_type": "code",
   "execution_count": 44,
   "metadata": {},
   "outputs": [
    {
     "data": {
      "text/plain": [
       "[('CO2 emissions from business activity contribute to climate change',\n",
       "  'Atenor'),\n",
       " (\"The total CO2 emissions of the company are 1694.44 metric tons of CO2 equivalent (t CO2e). \\nMobility, including commuting and business travels, stands out as a primary contributor to the carbon footprint, currently constituting nearly 60% of our total CO2 impact. Furthermore, when considering the production of company cars, this figure can escalate to 80%.  The geographical location of The company's Belgian offices is a significant factor in CO2 emissions.\\nCapital goods account for 32% of total emissions, while the products and services they contribute to represent an additional 5% of emissions. It's also important to note that the storage of data (in data centers and cloud computing) can have a negative impact on CO₂ emissions. \\nOn the other side, the algorithms of the company empowers organizations in the life sciences and energy sectors to decrease CO2 emissions through advanced optimization technologies and decision support systems.\\n\\n\",\n",
       "  'N-SIDE'),\n",
       " (\"Les émissions de gaz à effet de serre de l'entreprise ont atteint 6.1 MtCO2e en 2021, principalement pour le scope 1 et 2, dues aux pertes de gaz sur le réseau (90%), à la consommation énergétique des bâtiments (2%), et à la flotte de véhicules (8%). 85% du scope 3 provient de la consommation de gaz en Wallonie. Ces chiffres s'inscrivent dans la volonté d'The company d'investir dans la transition énergétique pour faciliter les objectifs wallons de réduction de 55% des GES d'ici 2030 et contribuer au plan national Energie-Climat\",\n",
       "  'ORES'),\n",
       " (\"L'empreinte carbone de l'entreprise s'élève à 2.222.674 tonnes d'émissions de CO2, dues essentuellement à l'énergie distribuée. Ces émissions contribuent au changement climatique. L'entreprise doit agir pour réduire cette empreinte.\\nLes pertes sur le réseau lors du transport de gaz et de la distribution d'électricité ont un impact direct en termes d'émissions de CO2.\",\n",
       "  'RESA')]"
      ]
     },
     "execution_count": 44,
     "metadata": {},
     "output_type": "execute_result"
    }
   ],
   "source": [
    "def get_impact(topic_selector):\n",
    "    query_Impact_from_topics=\"\"\"SELECT impacts.impact_name, companies.company_name\n",
    "            FROM impacts\n",
    "            JOIN companies ON impacts.company_id = companies.company_id\n",
    "            WHERE impacts.topic_id = ?\n",
    "            \"\"\"\n",
    "    cursor.execute(query_Impact_from_topics, (topic_selector,))\n",
    "    impacts = cursor.fetchall()\n",
    "    if len(impacts) == 0:\n",
    "        print(\"No impacts found\")\n",
    "    else:\n",
    "        return impacts\n",
    "\n",
    "\n",
    "get_impact(1)"
   ]
  },
  {
   "cell_type": "code",
   "execution_count": 43,
   "metadata": {},
   "outputs": [
    {
     "name": "stdout",
     "output_type": "stream",
     "text": [
      "CO2 emissions from business activity contribute to climate change\n",
      "The total CO2 emissions of the company are 1694.44 metric tons of CO2 equivalent (t CO2e). \n",
      "Mobility, including commuting and business travels, stands out as a primary contributor to the carbon footprint, currently constituting nearly 60% of our total CO2 impact. Furthermore, when considering the production of company cars, this figure can escalate to 80%.  The geographical location of The company's Belgian offices is a significant factor in CO2 emissions.\n",
      "Capital goods account for 32% of total emissions, while the products and services they contribute to represent an additional 5% of emissions. It's also important to note that the storage of data (in data centers and cloud computing) can have a negative impact on CO₂ emissions. \n",
      "On the other side, the algorithms of the company empowers organizations in the life sciences and energy sectors to decrease CO2 emissions through advanced optimization technologies and decision support systems.\n",
      "\n",
      "\n",
      "Les émissions de gaz à effet de serre de l'entreprise ont atteint 6.1 MtCO2e en 2021, principalement pour le scope 1 et 2, dues aux pertes de gaz sur le réseau (90%), à la consommation énergétique des bâtiments (2%), et à la flotte de véhicules (8%). 85% du scope 3 provient de la consommation de gaz en Wallonie. Ces chiffres s'inscrivent dans la volonté d'The company d'investir dans la transition énergétique pour faciliter les objectifs wallons de réduction de 55% des GES d'ici 2030 et contribuer au plan national Energie-Climat\n",
      "L'empreinte carbone de l'entreprise s'élève à 2.222.674 tonnes d'émissions de CO2, dues essentuellement à l'énergie distribuée. Ces émissions contribuent au changement climatique. L'entreprise doit agir pour réduire cette empreinte.\n",
      "Les pertes sur le réseau lors du transport de gaz et de la distribution d'électricité ont un impact direct en termes d'émissions de CO2.\n"
     ]
    }
   ],
   "source": [
    "i=0\n",
    "while i < len(get_impact(1)):\n",
    "    print(get_impact(1)[i][0])\n",
    "    i+=1"
   ]
  },
  {
   "cell_type": "code",
   "execution_count": 66,
   "metadata": {},
   "outputs": [
    {
     "name": "stdout",
     "output_type": "stream",
     "text": [
      "No impacts found\n"
     ]
    }
   ],
   "source": [
    "def get_company_source(topic_selector):\n",
    "    query_Impact_from_topics=\"\"\"SELECT Impacts.Impact_name, Companies.Company_name\n",
    "                                FROM Impacts\n",
    "                                INNER JOIN Companies ON Impacts.Company_ID = Companies.Company_id\n",
    "                                WHERE Impacts.Impact_id =  ?\"\"\"\n",
    "    cursor.execute(query_Impact_from_topics, (topic_selector,))\n",
    "    impacts = cursor.fetchall()\n",
    "    impacts = [impact[0] for impact in impacts]\n",
    "    if len(impacts) == 0:\n",
    "        print(\"No impacts found\")\n",
    "    else:\n",
    "        return impacts\n",
    "\n",
    "get_company_source(\"Climate change affects companies in the real estate industry through increasingly frequent weather events and changing climate patterns (flood, high temperatures, extreme meteorological events,...).\")"
   ]
  },
  {
   "cell_type": "code",
   "execution_count": 43,
   "metadata": {},
   "outputs": [
    {
     "name": "stdout",
     "output_type": "stream",
     "text": [
      "No risks found\n"
     ]
    }
   ],
   "source": [
    "def get_risk(topic_selector):\n",
    "    query_risk_name= \"\"\"SELECT Risks.Risk_name, Companies.Company_sector\n",
    "                    FROM Risks\n",
    "                    JOIN Companies ON Risks.Company_ID = Companies.Company_id\n",
    "                    WHERE Risks.Topic_id = ?\n",
    "                    \"\"\"\n",
    "    cursor.execute(query_risk_name, (topic_selector,))\n",
    "    risks = cursor.fetchall()\n",
    "    risks = [risk[0] for risk in risks]\n",
    "    if len(risks) == 0:\n",
    "        print(\"No risks found\")\n",
    "    else:\n",
    "        return risks\n",
    "\n",
    "\n",
    "get_risk(30)"
   ]
  },
  {
   "cell_type": "code",
   "execution_count": 44,
   "metadata": {},
   "outputs": [
    {
     "name": "stdout",
     "output_type": "stream",
     "text": [
      "No opportunities found\n"
     ]
    }
   ],
   "source": [
    "def get_opportunity(topic_selector):\n",
    "    query_opportunity_name= \"\"\"SELECT Opportunities.Opportunity_name, Companies.Company_sector\n",
    "                            FROM Opportunities\n",
    "                            JOIN Companies ON Opportunities.Company_ID = Companies.Company_id\n",
    "                            WHERE Opportunities.Topic_id = ?\n",
    "                            \"\"\";\n",
    "    cursor.execute(query_opportunity_name,  (topic_selector,))\n",
    "    opportunities = cursor.fetchall()\n",
    "    opportunities = [opportunity[0] for opportunity in opportunities]\n",
    "    if len(opportunities) == 0:\n",
    "        print(\"No opportunities found\")\n",
    "    else:\n",
    "        return opportunities\n",
    "\n",
    "get_opportunity(100)"
   ]
  }
 ],
 "metadata": {
  "kernelspec": {
   "display_name": "lewagon_current",
   "language": "python",
   "name": "python3"
  },
  "language_info": {
   "codemirror_mode": {
    "name": "ipython",
    "version": 3
   },
   "file_extension": ".py",
   "mimetype": "text/x-python",
   "name": "python",
   "nbconvert_exporter": "python",
   "pygments_lexer": "ipython3",
   "version": "3.10.6"
  }
 },
 "nbformat": 4,
 "nbformat_minor": 2
}
